{
 "cells": [
  {
   "cell_type": "markdown",
   "metadata": {},
   "source": [
    "## Ejercicio Crud de Usuarios"
   ]
  },
  {
   "cell_type": "code",
   "execution_count": 1,
   "metadata": {},
   "outputs": [
    {
     "name": "stdout",
     "output_type": "stream",
     "text": [
      "Nerea\n",
      "nerea123@gmail.com\n",
      "('Calle Sabino Arana', 'Santander', 'España')\n",
      "User(name=Nerea, email=nerea123@gmail.com, age=36, height=1.65m, student=Sí, birthday=1988-05-20, address=('Calle Sabino Arana', 'Santander', 'España'))\n"
     ]
    }
   ],
   "source": [
    "from datetime import date\n",
    "from user import User, Address\n",
    "import app as crud\n",
    "\n",
    "users = [\n",
    "    User(\"Nerea\", \"nerea@gmail.com\", 36, 1.65, False, date(1988, 5, 20), Address(\"Calle Gran Vía\", \"Bilbao\", \"España\")),\n",
    "    User(\"David\", \"david@gmail.com\", 20, 1.78, True, date(2004, 3, 15), Address(\"Avenida de los Fueros\", \"Madrid\", \"España\")),\n",
    "    User(\"Laura\", \"laura@gmail.com\", 25, 1.70, False, date(1999, 8, 30), Address(\"Calle Sabino Arana\", \"Santander\", \"España\"))\n",
    "]\n",
    "# Crear una ejemplo de User\n",
    "usuario_1 = User(\n",
    "    name=\"Nerea\",\n",
    "    email=\"nerea123@gmail.com\",\n",
    "    age=36,\n",
    "    height=1.65,\n",
    "    is_student=True,\n",
    "    birthday=date(1988, 5, 20),\n",
    "    address=(\"Calle Sabino Arana\", \"Santander\", \"España\")\n",
    ")\n",
    "\n",
    "# Acceder a atributos del usuario\n",
    "print(usuario_1.name)        \n",
    "print(usuario_1.email)     \n",
    "print(usuario_1.address)         \n",
    "print(usuario_1) "
   ]
  },
  {
   "cell_type": "code",
   "execution_count": null,
   "metadata": {},
   "outputs": [
    {
     "name": "stdout",
     "output_type": "stream",
     "text": [
      "Usuario encontrado por email:\n",
      "User(name=Nerea, email=nerea@gmail.com, age=36, height=1.65m, student=No, birthday=1988-05-20, address=Calle Gran Vía, Bilbao, España)\n",
      "\n",
      "\n",
      "Usuario nerea@gmail.com eliminado correctamente.\n",
      "\n",
      "\n",
      "Lista de usuarios:\n",
      "User(name=David, email=david@gmail.com, age=20, height=1.78m, student=Sí, birthday=2004-03-15, address=Avenida de los Fueros, Madrid, España)\n",
      "User(name=Laura, email=laura@gmail.com, age=25, height=1.7m, student=No, birthday=1999-08-30, address=Calle Sabino Arana, Santander, España)\n",
      "\n",
      "\n",
      "Usuarios ordenados por edad (ascendente):\n",
      "User(name=David, email=david@gmail.com, age=20, height=1.78m, student=Sí, birthday=2004-03-15, address=Avenida de los Fueros, Madrid, España)\n",
      "User(name=Laura, email=laura@gmail.com, age=25, height=1.7m, student=No, birthday=1999-08-30, address=Calle Sabino Arana, Santander, España)\n",
      "\n",
      "\n",
      "Usuario creado correctamente.\n",
      "User(name=lau, email=mar@gmail.com, age=34, height=1.43m, student=No, birthday=1987-12-12, address=rue, Bilbao, España)\n",
      "\n",
      "\n",
      "Usuario no encontrado.\n",
      "\n",
      "\n",
      "Usuario no encontrado.\n",
      "\n",
      "\n",
      "Introduce un número válido.\n",
      "\n",
      "\n",
      "Usuario actualizado correctamente.\n",
      "User(name=carlos, email=david@gmail.com, age=34, height=156.0m, student=No, birthday=1987-12-13, address=rue, Bilbao, España)\n",
      "\n",
      "\n",
      "Usuario no encontrado.\n",
      "\n",
      "\n",
      "Hasta pronto.\n"
     ]
    }
   ],
   "source": [
    "# Menú principal\n",
    "def main_menu():\n",
    "    menu = \"\"\"\n",
    "¡Te damos la bienvenida a la app de usuarios! Estas son las opciones:\n",
    "1 - Imprimir todos los usuarios\n",
    "2 - Imprimir usuarios ordenados por edad\n",
    "3 - Imprimir un usuario por email\n",
    "4 - Crear un nuevo usuario\n",
    "5 - Actualizar un usuario existente\n",
    "6 - Eliminar un usuario por email\n",
    "7 - Eliminar todos los usuarios\n",
    "8 - Salir\n",
    "\"\"\"\n",
    "\n",
    "    while True:\n",
    "        try:\n",
    "            option = int(input(menu))\n",
    "            match option:\n",
    "                case 1:\n",
    "                    crud.print_users(users)\n",
    "                case 2:\n",
    "                    crud.print_users_by_age(users)\n",
    "                case 3:\n",
    "                    crud.print_user_by_email(users)\n",
    "                case 4:\n",
    "                    crud.create_user(users)\n",
    "                case 5:\n",
    "                    crud.update_user(users)\n",
    "                case 6:\n",
    "                    crud.delete_user_by_email(users)\n",
    "                case 7:\n",
    "                    crud.delete_all_users(users)\n",
    "                case 8:\n",
    "                    print(\"Hasta pronto.\")\n",
    "                    break\n",
    "        \n",
    "        except ValueError:\n",
    "            print(\"Introduce un número válido.\")\n",
    "            print(\"\\n\")\n",
    "\n",
    "main_menu()\n"
   ]
  }
 ],
 "metadata": {
  "kernelspec": {
   "display_name": "Python 3",
   "language": "python",
   "name": "python3"
  },
  "language_info": {
   "codemirror_mode": {
    "name": "ipython",
    "version": 3
   },
   "file_extension": ".py",
   "mimetype": "text/x-python",
   "name": "python",
   "nbconvert_exporter": "python",
   "pygments_lexer": "ipython3",
   "version": "3.13.1"
  }
 },
 "nbformat": 4,
 "nbformat_minor": 2
}
